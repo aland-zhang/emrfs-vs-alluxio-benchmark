{
 "cells": [
  {
   "cell_type": "code",
   "execution_count": 3,
   "metadata": {
    "trusted": true
   },
   "outputs": [
    {
     "data": {
      "text/plain": [
       "VBox()"
      ]
     },
     "metadata": {},
     "output_type": "display_data"
    }
   ],
   "source": [
    "ALLUXIO = False\n",
    "NUMBER_OF_ROUNDS = 10\n",
    "BUCKET = \"BUCKET_NAME\""
   ]
  },
  {
   "cell_type": "code",
   "execution_count": 4,
   "metadata": {
    "trusted": true
   },
   "outputs": [
    {
     "data": {
      "text/plain": [
       "VBox()"
      ]
     },
     "metadata": {},
     "output_type": "display_data"
    },
    {
     "name": "stdout",
     "output_type": "stream",
     "text": [
      "Number of records: 600037902\nNumber of partitions: 1000"
     ]
    }
   ],
   "source": [
    "df = spark.read.csv(f\"s3://{BUCKET}/alluxio-emr/lineitem.tbl\", sep=\"|\").repartition(1000)\n",
    "df.cache()\n",
    "count = df.count()\n",
    "print(f\"Number of records: {count}\")\n",
    "print(f\"Number of partitions: {df.rdd.getNumPartitions()}\")"
   ]
  },
  {
   "cell_type": "code",
   "execution_count": 5,
   "metadata": {
    "trusted": true
   },
   "outputs": [
    {
     "data": {
      "text/plain": [
       "VBox()"
      ]
     },
     "metadata": {},
     "output_type": "display_data"
    },
    {
     "name": "stdout",
     "output_type": "stream",
     "text": [
      "DataFrame[_c0: string, _c1: string, _c2: string, _c3: string, _c4: string, _c5: string, _c6: string, _c7: string, _c8: string, _c9: string, _c10: string, _c11: string, _c12: string, _c13: string, _c14: string, _c15: string]"
     ]
    }
   ],
   "source": [
    "from time import time\n",
    "\n",
    "path = \"alluxio:///test/data/\" if ALLUXIO else f\"s3://{BUCKET}/alluxio-emr/data/\"\n",
    "write_times = []\n",
    "read_times = []\n",
    "df.write.parquet(path, mode=\"overwrite\")\n",
    "for _ in range(NUMBER_OF_ROUNDS):\n",
    "    start = time()\n",
    "    df.write.parquet(path, mode=\"overwrite\")\n",
    "    write_times.append(time() - start)\n",
    "    start = time()\n",
    "    df_temp = spark.read.parquet(path).cache()\n",
    "    assert count == df_temp.count()\n",
    "    read_times.append(time() - start)\n",
    "    df_temp.unpersist()\n",
    "df.unpersist()"
   ]
  },
  {
   "cell_type": "code",
   "execution_count": 6,
   "metadata": {
    "trusted": true
   },
   "outputs": [
    {
     "data": {
      "text/plain": [
       "VBox()"
      ]
     },
     "metadata": {},
     "output_type": "display_data"
    },
    {
     "name": "stdout",
     "output_type": "stream",
     "text": [
      "Min write time: 62.2 sec\nAvg write time: 67.4 sec\nMax write time: 77.7 sec\nMin read time: 94.3 sec\nAvg read time: 97.7 sec\nMax read time: 102.7 sec"
     ]
    }
   ],
   "source": [
    "print(f\"Min write time: {min(write_times):.1f} sec\")\n",
    "print(f\"Avg write time: {(sum(write_times)/len(write_times)):.1f} sec\")\n",
    "print(f\"Max write time: {max(write_times):.1f} sec\")\n",
    "print(f\"Min read time: {min(read_times):.1f} sec\")\n",
    "print(f\"Avg read time: {(sum(read_times)/len(read_times)):.1f} sec\")\n",
    "print(f\"Max read time: {max(read_times):.1f} sec\")"
   ]
  },
  {
   "cell_type": "code",
   "execution_count": null,
   "metadata": {
    "trusted": true
   },
   "outputs": [],
   "source": [
    ""
   ]
  }
 ],
 "metadata": {
  "kernelspec": {
   "name": "pysparkkernel",
   "display_name": "PySpark",
   "language": ""
  },
  "language_info": {
   "name": "pyspark",
   "mimetype": "text/x-python",
   "codemirror_mode": {
    "name": "python",
    "version": 2
   },
   "pygments_lexer": "python2"
  }
 },
 "nbformat": 4,
 "nbformat_minor": 2
}
