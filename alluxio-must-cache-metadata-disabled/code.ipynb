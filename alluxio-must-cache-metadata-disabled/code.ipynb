{
 "cells": [
  {
   "cell_type": "code",
   "execution_count": 1,
   "metadata": {
    "scrolled": true,
    "trusted": true
   },
   "outputs": [
    {
     "data": {
      "text/plain": [
       "VBox()"
      ]
     },
     "metadata": {},
     "output_type": "display_data"
    },
    {
     "name": "stdout",
     "output_type": "stream",
     "text": [
      "Starting Spark application\n"
     ]
    },
    {
     "data": {
      "text/html": [
       "<table>\n<tr><th>ID</th><th>YARN Application ID</th><th>Kind</th><th>State</th><th>Spark UI</th><th>Driver log</th><th>Current session?</th></tr><tr><td>0</td><td>application_1559219494254_0001</td><td>pyspark</td><td>idle</td><td><a target=\"_blank\" href=\"http://ip-10-0-2-152.ec2.internal:20888/proxy/application_1559219494254_0001/\">Link</a></td><td><a target=\"_blank\" href=\"http://ip-10-0-2-239.ec2.internal:8042/node/containerlogs/container_1559219494254_0001_01_000001/livy\">Link</a></td><td>✔</td></tr></table>"
      ],
      "text/plain": [
       "<IPython.core.display.HTML object>"
      ]
     },
     "metadata": {},
     "output_type": "execute_result"
    },
    {
     "name": "stdout",
     "output_type": "stream",
     "text": [
      "SparkSession available as 'spark'.\n"
     ]
    }
   ],
   "source": [
    "ALLUXIO = True\n",
    "NUMBER_OF_ROUNDS = 10\n",
    "BUCKET = \"BUCKET_NAME\""
   ]
  },
  {
   "cell_type": "code",
   "execution_count": 2,
   "metadata": {
    "trusted": true
   },
   "outputs": [
    {
     "data": {
      "text/plain": [
       "VBox()"
      ]
     },
     "metadata": {},
     "output_type": "display_data"
    },
    {
     "name": "stdout",
     "output_type": "stream",
     "text": [
      "Number of records: 600037902\nNumber of partitions: 1000"
     ]
    }
   ],
   "source": [
    "df = spark.read.csv(f\"s3://{BUCKET}/alluxio-emr/lineitem.tbl\", sep=\"|\").repartition(1000)\n",
    "df.cache()\n",
    "count = df.count()\n",
    "print(f\"Number of records: {count}\")\n",
    "print(f\"Number of partitions: {df.rdd.getNumPartitions()}\")"
   ]
  },
  {
   "cell_type": "code",
   "execution_count": 3,
   "metadata": {
    "trusted": true
   },
   "outputs": [
    {
     "data": {
      "text/plain": [
       "VBox()"
      ]
     },
     "metadata": {},
     "output_type": "display_data"
    },
    {
     "name": "stdout",
     "output_type": "stream",
     "text": [
      "DataFrame[_c0: string, _c1: string, _c2: string, _c3: string, _c4: string, _c5: string, _c6: string, _c7: string, _c8: string, _c9: string, _c10: string, _c11: string, _c12: string, _c13: string, _c14: string, _c15: string]"
     ]
    }
   ],
   "source": [
    "from time import time\n",
    "\n",
    "path = \"alluxio:///test/data/\" if ALLUXIO else f\"s3://{BUCKET}/alluxio-emr/data/\"\n",
    "write_times = []\n",
    "read_times = []\n",
    "df.write.parquet(path, mode=\"overwrite\")\n",
    "for _ in range(NUMBER_OF_ROUNDS):\n",
    "    start = time()\n",
    "    df.write.parquet(path, mode=\"overwrite\")\n",
    "    write_times.append(time() - start)\n",
    "    start = time()\n",
    "    df_temp = spark.read.parquet(path).cache()\n",
    "    assert count == df_temp.count()\n",
    "    read_times.append(time() - start)\n",
    "    df_temp.unpersist()\n",
    "df.unpersist()"
   ]
  },
  {
   "cell_type": "code",
   "execution_count": 4,
   "metadata": {
    "trusted": true,
    "collapsed": false
   },
   "outputs": [
    {
     "data": {
      "text/plain": [
       "VBox()"
      ]
     },
     "metadata": {},
     "output_type": "display_data"
    },
    {
     "name": "stdout",
     "output_type": "stream",
     "text": [
      "Min write time: 79.3 sec\nAvg write time: 84.2 sec\nMax write time: 91.9 sec\nMin read time: 82.4 sec\nAvg read time: 91.0 sec\nMax read time: 95.4 sec"
     ]
    }
   ],
   "source": [
    "print(f\"Min write time: {min(write_times):.1f} sec\")\n",
    "print(f\"Avg write time: {(sum(write_times)/len(write_times)):.1f} sec\")\n",
    "print(f\"Max write time: {max(write_times):.1f} sec\")\n",
    "print(f\"Min read time: {min(read_times):.1f} sec\")\n",
    "print(f\"Avg read time: {(sum(read_times)/len(read_times)):.1f} sec\")\n",
    "print(f\"Max read time: {max(read_times):.1f} sec\")"
   ]
  },
  {
   "cell_type": "code",
   "execution_count": null,
   "metadata": {
    "trusted": true
   },
   "outputs": [],
   "source": [
    ""
   ]
  }
 ],
 "metadata": {
  "kernelspec": {
   "name": "pysparkkernel",
   "display_name": "PySpark",
   "language": ""
  },
  "language_info": {
   "name": "pyspark",
   "mimetype": "text/x-python",
   "codemirror_mode": {
    "name": "python",
    "version": 2
   },
   "pygments_lexer": "python2"
  }
 },
 "nbformat": 4,
 "nbformat_minor": 2
}
